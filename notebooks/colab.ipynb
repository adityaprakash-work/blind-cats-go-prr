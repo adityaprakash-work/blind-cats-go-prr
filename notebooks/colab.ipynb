{
 "cells": [
  {
   "cell_type": "markdown",
   "metadata": {},
   "source": [
    "#### **DEPENDENCIES**"
   ]
  },
  {
   "cell_type": "code",
   "execution_count": 1,
   "metadata": {},
   "outputs": [],
   "source": [
    "import cv2\n",
    "import sys\n",
    "import torch as pt\n",
    "from torch.utils.data import DataLoader"
   ]
  },
  {
   "cell_type": "code",
   "execution_count": null,
   "metadata": {},
   "outputs": [],
   "source": [
    "from google.colab import drive; drive.mount(\"/content/drive\")"
   ]
  },
  {
   "cell_type": "code",
   "execution_count": null,
   "metadata": {},
   "outputs": [],
   "source": [
    "!git clone https://github.com/adityaprakash-work/blind-cats-go-prr\n",
    "%cd blind-cats-go-prr\n",
    "!pip install -r requirements.txt\n",
    "sys.path.append(\"../\")"
   ]
  },
  {
   "cell_type": "code",
   "execution_count": null,
   "metadata": {},
   "outputs": [],
   "source": [
    "from src.trainers.twin import Trainer1\n",
    "from src.data.thoughtviz import ThoughtVizDepthBasic\n",
    "from src.models import EEGEncoderSimple, GenericImageEncoder1, GenericLatentDecoder1"
   ]
  },
  {
   "cell_type": "markdown",
   "metadata": {},
   "source": [
    "#### **DATASET**"
   ]
  },
  {
   "cell_type": "code",
   "execution_count": 2,
   "metadata": {},
   "outputs": [],
   "source": [
    "thoughtviz_path = ...\n",
    "images_dir = ...\n",
    "dset = ThoughtVizDepthBasic(thoughtviz_path, images_dir)"
   ]
  },
  {
   "cell_type": "code",
   "execution_count": null,
   "metadata": {},
   "outputs": [],
   "source": [
    "trn_size = int(0.8 * len(dset))\n",
    "val_size = len(dset) - trn_size\n",
    "trn_dset, val_dset = pt.utils.data.random_split(dset, [trn_size, val_size])\n",
    "trn_dl = DataLoader(trn_dset, batch_size=32, shuffle=True)\n",
    "val_dl = DataLoader(val_dset, batch_size=32, shuffle=True)"
   ]
  },
  {
   "cell_type": "markdown",
   "metadata": {},
   "source": [
    "#### **MODELS**"
   ]
  },
  {
   "cell_type": "code",
   "execution_count": null,
   "metadata": {},
   "outputs": [],
   "source": [
    "eeg_enc = EEGEncoderSimple()\n",
    "img_enc = GenericImageEncoder1()\n",
    "lat_dec = GenericLatentDecoder1()"
   ]
  },
  {
   "cell_type": "markdown",
   "metadata": {},
   "source": [
    "#### **TENSORBOARD**"
   ]
  },
  {
   "cell_type": "code",
   "execution_count": null,
   "metadata": {},
   "outputs": [],
   "source": [
    "%mkdir -p experiments/twin1\n",
    "%load_ext tensorboard\n",
    "%tensorboard --logdir experiments/twin1 --port 6006"
   ]
  },
  {
   "cell_type": "markdown",
   "metadata": {},
   "source": [
    "#### **TRAINING**"
   ]
  },
  {
   "cell_type": "code",
   "execution_count": 13,
   "metadata": {},
   "outputs": [],
   "source": [
    "trainer = Trainer1(eeg_enc, img_enc, lat_dec, trn_dl, val_dl, device=\"cuda\")"
   ]
  },
  {
   "cell_type": "code",
   "execution_count": null,
   "metadata": {},
   "outputs": [],
   "source": [
    "trainer.fire(\n",
    "    max_epochs=101,\n",
    "    log_rec_interval=16,\n",
    "    branch_switch_interval=128,\n",
    "    log_dir=\"./experiments/twin1\",\n",
    ")"
   ]
  }
 ],
 "metadata": {
  "kernelspec": {
   "display_name": "venv",
   "language": "python",
   "name": "python3"
  },
  "language_info": {
   "codemirror_mode": {
    "name": "ipython",
    "version": 3
   },
   "file_extension": ".py",
   "mimetype": "text/x-python",
   "name": "python",
   "nbconvert_exporter": "python",
   "pygments_lexer": "ipython3",
   "version": "3.12.2"
  }
 },
 "nbformat": 4,
 "nbformat_minor": 2
}
